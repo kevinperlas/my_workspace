{
 "cells": [
  {
   "cell_type": "code",
   "execution_count": 1,
   "metadata": {
    "collapsed": true
   },
   "outputs": [],
   "source": [
    "import time\n"
   ]
  },
  {
   "cell_type": "markdown",
   "metadata": {},
   "source": [
    "## Greatest Common Denominator\n",
    "\n"
   ]
  },
  {
   "cell_type": "code",
   "execution_count": 7,
   "metadata": {
    "collapsed": true
   },
   "outputs": [],
   "source": [
    "def NaiveGCD(a, b):\n",
    "    \"\"\"Compute greatest common denominator by iterating over all possible answers\n",
    "    \n",
    "    Arguments\n",
    "    ---------\n",
    "    a, b are integers >= 0 \n",
    "    \n",
    "    Returns\n",
    "    -------\n",
    "    best: integer that is the GCD of a & b\n",
    "    \"\"\"\n",
    "    best = 1\n",
    "    i = 1\n",
    "    while (i<=a) & (i<=b):\n",
    "        if (a%i == 0) & (b%i == 0):\n",
    "            best = i\n",
    "        i+=1\n",
    "    \n",
    "        #print(i,':',a%i, b%i)\n",
    "    return best\n",
    "    "
   ]
  },
  {
   "cell_type": "code",
   "execution_count": 5,
   "metadata": {},
   "outputs": [
    {
     "name": "stdout",
     "output_type": "stream",
     "text": [
      "2 : 0 0\n",
      "3 : 2 1\n",
      "4 : 0 0\n",
      "5 : 3 3\n",
      "6 : 2 4\n",
      "7 : 1 0\n",
      "8 : 0 4\n",
      "9 : 8 1\n"
     ]
    },
    {
     "data": {
      "text/plain": [
       "4"
      ]
     },
     "execution_count": 5,
     "metadata": {},
     "output_type": "execute_result"
    }
   ],
   "source": [
    "NaiveGCD(8, 28)"
   ]
  },
  {
   "cell_type": "code",
   "execution_count": 6,
   "metadata": {},
   "outputs": [
    {
     "name": "stdout",
     "output_type": "stream",
     "text": [
      "2 : 0 1\n",
      "3 : 2 0\n",
      "4 : 0 1\n",
      "5 : 0 1\n",
      "6 : 2 3\n",
      "7 : 6 1\n",
      "8 : 4 5\n",
      "9 : 2 3\n",
      "10 : 0 1\n",
      "11 : 9 1\n",
      "12 : 8 9\n",
      "13 : 7 6\n",
      "14 : 6 1\n",
      "15 : 5 6\n",
      "16 : 4 5\n",
      "17 : 3 7\n",
      "18 : 2 3\n",
      "19 : 1 4\n",
      "20 : 0 1\n",
      "21 : 20 15\n"
     ]
    },
    {
     "data": {
      "text/plain": [
       "1"
      ]
     },
     "execution_count": 6,
     "metadata": {},
     "output_type": "execute_result"
    }
   ],
   "source": [
    "NaiveGCD(20, 765381)"
   ]
  },
  {
   "cell_type": "code",
   "execution_count": 8,
   "metadata": {},
   "outputs": [
    {
     "data": {
      "text/plain": [
       "61232"
      ]
     },
     "execution_count": 8,
     "metadata": {},
     "output_type": "execute_result"
    }
   ],
   "source": [
    "NaiveGCD(3918848, 1653264)"
   ]
  },
  {
   "cell_type": "code",
   "execution_count": 9,
   "metadata": {},
   "outputs": [
    {
     "data": {
      "text/plain": [
       "612320"
      ]
     },
     "execution_count": 9,
     "metadata": {},
     "output_type": "execute_result"
    }
   ],
   "source": [
    "NaiveGCD(39188480, 16532640)"
   ]
  },
  {
   "cell_type": "markdown",
   "metadata": {},
   "source": [
    "## Euclidean Theorem\n",
    "(from https://en.wikipedia.org/wiki/Euclidean_algorithm)\n",
    "\n",
    "In mathematics, the Euclidean algorithm[a], or Euclid's algorithm, is an efficient method for computing the greatest common divisor (GCD) of two numbers, the largest number that divides both of them without leaving a remainder. It is named after the ancient Greek mathematician Euclid, who first described it in his Elements (c. 300 BC). It is an example of an algorithm, a step-by-step procedure for performing a calculation according to well-defined rules, and is one of the oldest algorithms in common use. It can be used to reduce fractions to their simplest form, and is a part of many other number-theoretic and cryptographic calculations.\n",
    "\n",
    "The Euclidean algorithm is based on the principle that the greatest common divisor of two numbers does not change if the larger number is replaced by its difference with the smaller number. \n",
    "\n",
    "For example, 21 is the GCD of 252 and 105 (as 252 = 21 × 12 and 105 = 21 × 5), and the same number 21 is also the GCD of 105 and 252 − 105 = 147. Since this replacement reduces the larger of the two numbers, repeating this process gives successively smaller pairs of numbers until the two numbers become equal. When that occurs, they are the GCD of the original two numbers. By reversing the steps, the GCD can be expressed as a sum of the two original numbers each multiplied by a positive or negative integer, e.g., 21 = 5 × 105 + (−2) × 252. \n"
   ]
  },
  {
   "cell_type": "code",
   "execution_count": 14,
   "metadata": {
    "collapsed": true
   },
   "outputs": [],
   "source": [
    "def EuclideanGCD(a, b):\n",
    "    \"\"\"Compute greatest common denominator by using the Euclidean Algorithm\n",
    "    Fun fact: This is actually the implementation of Python's math package to calculate GCD\n",
    "    \"\"\"\n",
    "    while b:\n",
    "        a, b = b, a % b\n",
    "        #print(a,b)\n",
    "    return a"
   ]
  },
  {
   "cell_type": "code",
   "execution_count": 13,
   "metadata": {
    "scrolled": true
   },
   "outputs": [
    {
     "name": "stdout",
     "output_type": "stream",
     "text": [
      "1653264 612320\n",
      "612320 428624\n",
      "428624 183696\n",
      "183696 61232\n",
      "61232 0\n"
     ]
    },
    {
     "data": {
      "text/plain": [
       "61232"
      ]
     },
     "execution_count": 13,
     "metadata": {},
     "output_type": "execute_result"
    }
   ],
   "source": [
    "EuclideanGCD(3918848, 1653264)"
   ]
  },
  {
   "cell_type": "code",
   "execution_count": 15,
   "metadata": {},
   "outputs": [
    {
     "data": {
      "text/plain": [
       "1"
      ]
     },
     "execution_count": 15,
     "metadata": {},
     "output_type": "execute_result"
    }
   ],
   "source": [
    "EuclideanGCD(573578766,57646556145653)"
   ]
  },
  {
   "cell_type": "code",
   "execution_count": 16,
   "metadata": {},
   "outputs": [
    {
     "name": "stdout",
     "output_type": "stream",
     "text": [
      "Wall time: 7.82 s\n",
      "Wall time: 0 ns\n"
     ]
    }
   ],
   "source": [
    "# Benchmarking time for computing mean\n",
    "%time NaiveGCD(16532640, 39188480)\n",
    "%time EuclideanGCD(16532640, 39188480)\n",
    "pass"
   ]
  },
  {
   "cell_type": "code",
   "execution_count": null,
   "metadata": {
    "collapsed": true
   },
   "outputs": [],
   "source": []
  }
 ],
 "metadata": {
  "kernelspec": {
   "display_name": "Python 3",
   "language": "python",
   "name": "python3"
  },
  "language_info": {
   "codemirror_mode": {
    "name": "ipython",
    "version": 3
   },
   "file_extension": ".py",
   "mimetype": "text/x-python",
   "name": "python",
   "nbconvert_exporter": "python",
   "pygments_lexer": "ipython3",
   "version": "3.6.2"
  }
 },
 "nbformat": 4,
 "nbformat_minor": 2
}
