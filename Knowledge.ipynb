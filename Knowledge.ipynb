{
 "cells": [
  {
   "cell_type": "markdown",
   "metadata": {},
   "source": [
    "Natalie Hockman: Machine learning with imbalanced data sets\n",
    "Pydata - youtube\n",
    "\n",
    "SMOTE and ADASYN (Handling imbalanced Data Set)\n",
    "Medium - Towards Data Science\n",
    "\n"
   ]
  },
  {
   "cell_type": "markdown",
   "metadata": {},
   "source": [
    "That's a lot of models that you tried out!\n",
    "\n",
    "\n",
    "A couple notes. You never want to run any .fit or .fit_transform using your test set. The goal of modeling is to make (intelligent) predictions on data it has never seen before so feeding test data defeats that purpose. \n",
    "\n",
    "    from sklearn.preprocessing import MinMaxScaler\n",
    "    mms = MinMaxScaler()\n",
    "    X_train_scaled = mms.fit_transform(X_train)\n",
    "    X_test_scaled = mms.fit_transform(X_test)\n",
    "So you also want to use the same preprocessing perameters from the training set on the test set. MinMaxScaler is basically dividing all the numbers in the column by the max number. Lets say column A has a max of 50 in the training set but a max of 10 in the test set. Your model treats 10 as .2 but it is making a prediction like it's original value is 50. \n",
    "\n",
    "\n",
    "Also, the purpose of GridSearch is run through as many hyper parameters that you want.\n",
    "\n",
    "    from sklearn.ensemble import RandomForestClassifier\n",
    "    rf = RandomForestClassifier(n_estimators=200)\n",
    "    rf = rf.fit(X_train, y_train)\n",
    "    rf.score(X_test, y_test)\n",
    "\n",
    "    \n",
    " instead of running this 7 times with different n_estimators, then comparing scores, you could just use the gridsearch like this:\n",
    " \n",
    "     param_grid = {'n_estimators': [20, 100, 180]}\n",
    "     grid = GridSearchCV(rf, param_grid, verbose=3)\n",
    "     grid.fit(X_train_scaled, y_train)\n",
    "\n",
    "Overall a good submission. Leaking test data into training is a very common mistake that many make when they start modeling. "
   ]
  }
 ],
 "metadata": {
  "kernelspec": {
   "display_name": "Python 3",
   "language": "python",
   "name": "python3"
  },
  "language_info": {
   "codemirror_mode": {
    "name": "ipython",
    "version": 3
   },
   "file_extension": ".py",
   "mimetype": "text/x-python",
   "name": "python",
   "nbconvert_exporter": "python",
   "pygments_lexer": "ipython3",
   "version": "3.6.1"
  }
 },
 "nbformat": 4,
 "nbformat_minor": 2
}
