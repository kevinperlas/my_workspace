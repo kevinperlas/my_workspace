{
 "cells": [
  {
   "cell_type": "markdown",
   "metadata": {},
   "source": [
    "\n",
    "Calculating a moving average using Python You are given a list of numbers J and a single number p. Write a function to return the minimum and maximum averages of the sequences of p numbers in J. Example:\n",
    "```\n",
    "J = [4, 4, 4, 9, 10, 11, 12]\n",
    "p = 3\n",
    "```\n",
    "The sequences will be:\n",
    "```\n",
    "(4,4,4)\n",
    "(4,4,9)\n",
    "(4,9,10)\n",
    "(9,10,11)\n",
    "(10,11,12)\n",
    "```"
   ]
  },
  {
   "cell_type": "code",
   "execution_count": 1,
   "metadata": {
    "collapsed": true
   },
   "outputs": [],
   "source": [
    "def MMRA(J,p):\n",
    "    tMin=0\n",
    "    tMax=0\n",
    "    outerList=[]\n",
    "    innerList=[]\n",
    "    \n",
    "    for i in range(0,len(J)-p +1):\n",
    "        pIndex = 0\n",
    "        while pIndex < p:\n",
    "            #print(J[pIndex+i])\n",
    "            innerList.append(J[pIndex+i])\n",
    "            pIndex += 1\n",
    "        #print(\"---\")\n",
    "        outerList.append(innerList)\n",
    "        i += 1\n",
    "        innerList=[]\n",
    "        \n",
    "    #print(outerList)\n",
    "    newList = []\n",
    "    \n",
    "    for k in outerList:\n",
    "        newList.append(sum(k)/len(k))\n",
    "        #print(sum(k)/len(k))\n",
    "    \n",
    "    print(newList)\n",
    "    tMin = min(newList)\n",
    "    tMax = max(newList)\n",
    "    return tMin, tMax"
   ]
  },
  {
   "cell_type": "code",
   "execution_count": 2,
   "metadata": {},
   "outputs": [
    {
     "name": "stdout",
     "output_type": "stream",
     "text": [
      "[4.0, 5.666666666666667, 7.666666666666667, 10.0, 11.0]\n"
     ]
    },
    {
     "data": {
      "text/plain": [
       "(4.0, 11.0)"
      ]
     },
     "execution_count": 2,
     "metadata": {},
     "output_type": "execute_result"
    }
   ],
   "source": [
    "MMRA([4, 4, 4, 9, 10, 11, 12], 3)"
   ]
  },
  {
   "cell_type": "markdown",
   "metadata": {},
   "source": [
    "You have N boxes in your room which you want to carry to a different place. There are too many to carry in one trip, so you want to split them into several piles using the following algorithm: if the current pile has at most M boxes, you can carry it as is, otherwise you split it into P parts as equally as possible (i.e. so that the sizes of the parts differ at most by 1) and apply the same algorithm to each of the parts. If you're trying to split less than P boxes into P piles, discard resulting zero-sized piles (see example 2).\n",
    "\n",
    "Calculate the number of piles you'll get in the end.\n",
    "\n",
    "The only line of input contains three space-separated integers: N, M and P. 1 <= N <= 100, 1 <= M <= 5, 2 <= P <= 5.\n",
    "\n",
    "Example 1\n",
    "\n",
    "input\n",
    "\n",
    "11 2 2\n",
    "\n",
    "output\n",
    "\n",
    "7\n",
    "\n",
    "The sequence of pile splits you do is:\n",
    "```\n",
    "11 -> 6 + 5 \n",
    "6 -> 3 + 3 \n",
    "5 -> 3 + 2\n",
    "3 -> 2 + 1 (applied to three piles of 3 boxes each)\n",
    "```\n",
    "\n",
    "**Better Illustration because I'm a potato**\n",
    "```\n",
    "        11\n",
    "      /    \\ \n",
    "     6       5\n",
    "    / \\     / \\\n",
    "   3   3   3   2\n",
    "  /\\   /\\  /\\  \n",
    " 2 1  2 1  2 1\n",
    "```\n",
    "You end up with 4 piles of 2 boxes and 3 piles of 1 boxes, a total of 7 piles.\n",
    "\n",
    "Example 2\n",
    "\n",
    "input\n",
    "\n",
    "3 2 5\n",
    "\n",
    "output\n",
    "\n",
    "3\n",
    "\n",
    "You have to split a pile of 3 boxes into 5 parts, so you get 3 piles of 1 box and 2 empty piles which you discard."
   ]
  },
  {
   "cell_type": "code",
   "execution_count": 4,
   "metadata": {},
   "outputs": [
    {
     "name": "stdout",
     "output_type": "stream",
     "text": [
      "3\n"
     ]
    }
   ],
   "source": [
    "line= \"3 1 2\"\n",
    "\n",
    "input_str = line.split()\n",
    "#print(input_str)\n",
    "input_int = [int(x) for x in input_str]\n",
    "\n",
    "N = input_int[0]\n",
    "M = input_int[1]\n",
    "P = input_int[2]\n",
    "\n",
    "\n",
    "def recursive_piles(N,M,P):\n",
    "    \"\"\"\n",
    "    Returns a list of the lowest elements in the poorly written tree\n",
    "    \"\"\"\n",
    "    output = []\n",
    "    tc = 0 \n",
    "    \n",
    "    #this is to distribute the remainder accoss the piles if N / P \n",
    "    temp = int(N/P)\n",
    "    for i in range(0,P):\n",
    "        output.append(temp)\n",
    "        tc = tc + temp\n",
    "    if N - tc > 0:\n",
    "        remainder = N - tc\n",
    "        for j in range(remainder,0,-1): # I made it count backwards for some reason that made sense at 2AM\n",
    "            output[j] +=1\n",
    "            \n",
    "    #this is to check if new piles satisfy the M        \n",
    "    for k in output:\n",
    "        if k > M:\n",
    "            output = output + recursive_piles(k,M,P)\n",
    "            output.remove(k)\n",
    "    \n",
    "    return output\n",
    "\n",
    "\n",
    "#case switch depending on the relative sizes of N,M,P\n",
    "if (M<N) & (P >= N):\n",
    "    print(N)\n",
    "elif (M>=N) & (P>=N):\n",
    "    print(1)\n",
    "elif (M>=N) & (P<N):\n",
    "    print(P)\n",
    "else: # (M<N) & (P<N) -- Recusion Time\n",
    "    print(len(recursive_piles(N,M,P)))"
   ]
  },
  {
   "cell_type": "code",
   "execution_count": null,
   "metadata": {
    "collapsed": true
   },
   "outputs": [],
   "source": []
  }
 ],
 "metadata": {
  "kernelspec": {
   "display_name": "Python 3",
   "language": "python",
   "name": "python3"
  },
  "language_info": {
   "codemirror_mode": {
    "name": "ipython",
    "version": 3
   },
   "file_extension": ".py",
   "mimetype": "text/x-python",
   "name": "python",
   "nbconvert_exporter": "python",
   "pygments_lexer": "ipython3",
   "version": "3.6.1"
  }
 },
 "nbformat": 4,
 "nbformat_minor": 2
}
